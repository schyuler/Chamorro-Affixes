{
 "cells": [
  {
   "cell_type": "code",
   "execution_count": 25,
   "metadata": {},
   "outputs": [
    {
     "data": {
      "text/plain": [
       "' Applying Affixes to Chamoru Words   Schyuler Lujan   October 1, 2021'"
      ]
     },
     "execution_count": 25,
     "metadata": {},
     "output_type": "execute_result"
    }
   ],
   "source": [
    "\"\"\" Applying Affixes to Chamoru Words   Schyuler Lujan   October 1, 2021\"\"\""
   ]
  },
  {
   "cell_type": "markdown",
   "metadata": {},
   "source": [
    "Notes:\n",
    "* Make rules for the a- prefix\n",
    "* Make an additional rule for 'ng' in man- prefix to drop the extra 'n' while also keeping the double 'n'"
   ]
  },
  {
   "cell_type": "code",
   "execution_count": 2,
   "metadata": {},
   "outputs": [],
   "source": [
    "# Import relevant libraries\n",
    "import pandas as pd\n",
    "import xlrd"
   ]
  },
  {
   "cell_type": "code",
   "execution_count": 3,
   "metadata": {},
   "outputs": [],
   "source": [
    "def open_workbook(excel_file):\n",
    "    \"\"\"Opens the original dictionary and creates a new, temporary dictionary for applying affixes\"\"\"\n",
    "    # Open the workbook and create into a data frame\n",
    "    wkbk = excel_file #'Man_Test_Words.xlsx'\n",
    "    df = pd.read_excel(wkbk)\n",
    "    \n",
    "    # Convert the columns of the data frame into lists\n",
    "    CH_List = df['Term'].values.tolist()\n",
    "    EN_List = df['Full Definition'].values.tolist()\n",
    "    \n",
    "    # Create temporary dictionary for holding the lists\n",
    "    temp_dictionary = {'Term': [], 'English': []}\n",
    "    \n",
    "    # Append lists to temporary dictionary\n",
    "    total_words = len(CH_List)\n",
    "    for i in range(total_words):\n",
    "        temp_dictionary['Term'].append(CH_List[i])\n",
    "        temp_dictionary['English'].append(EN_List[i])\n",
    "    \n",
    "    return temp_dictionary"
   ]
  },
  {
   "cell_type": "markdown",
   "metadata": {},
   "source": [
    "## Man Prefix\n",
    "\n",
    "Code for modifying words to apply the man- prefix. The man- prefix has the following applications:\n",
    "\n",
    "- Makes a word plural, meaning it will refer to 3 or more subjects\n",
    "- As an indefinite object marker\n",
    "\n",
    "Note that for the above applications, we can also see a \"double man\" prefix applied to words, meaning that both of the above applications of man are applied in the same word. An example is with the word taitai, which means to read or pray. See transformations below:\n",
    "\n",
    "- Indefinite Object Marker: Taitai --> Manaitai\n",
    "- Double Man --> Taitai --> Manaitai --> Manmanaitai"
   ]
  },
  {
   "cell_type": "code",
   "execution_count": 4,
   "metadata": {},
   "outputs": [],
   "source": [
    "def apply_man_prefix(temp_dictionary):\n",
    "    \"\"\"Take the words in the temporary dictionary and loop thru, applying the man- prefix\"\"\"\n",
    "    \n",
    "    # Create definition for man- prefix\n",
    "    man_prefix_term = 'Man-'\n",
    "    man_prefix_definition = 'The man- prefix does one of the following: 1) Makes a word plural, making it refer to 3 or more; or 2) Is an indefinite object marker'\n",
    "    \n",
    "    # Create a dictionary containing the conjugation rules for man- prefix\n",
    "    # FIXME: Add the prefix rules for each specific transformation\n",
    "    man_prefix_rules = {\n",
    "                        'b': ['mam', '0'], 'c': ['mañ', '2'], 's': ['mañ', '1'], \n",
    "                        't': ['man', '1'], 'k': ['mang','1'], 'f': ['mam','1'], \n",
    "                        'g': ['mang', '0'], 'p': ['mam', '1']\n",
    "                        }\n",
    "    \n",
    "    # Create a dictionary to hold all words with man- prefix\n",
    "    man_prefix_words = {'AffixedWord': [], 'Definition': []}\n",
    "    \n",
    "    # Loop thru word list to apply the man- prefix\n",
    "    for item in temp_dictionary['Term']:\n",
    "        if item[0] in man_prefix_rules:\n",
    "            slice_start = man_prefix_rules[item[0]][1]\n",
    "            affixed_word = man_prefix_rules[item[0]][0] + item[int(slice_start): ]\n",
    "            man_prefix_words['AffixedWord'].append(affixed_word)\n",
    "        else:\n",
    "            #FIXME if item[0:2] = 'ng':\n",
    "            #    affixed_word = 'man' + item[1: ]\n",
    "            affixed_word = 'man' + item\n",
    "            man_prefix_words['AffixedWord'].append(affixed_word)\n",
    "            \n",
    "    return man_prefix_words, man_prefix_term, man_prefix_definition"
   ]
  },
  {
   "cell_type": "markdown",
   "metadata": {},
   "source": [
    "## UM Infix\n",
    "\n",
    "The UM infix is generally known as a \"verbalizer\" meaning that it is used to change a word into a verb. Examples include the following:\n",
    "\n",
    "- maolek = good | mumaolek = became good\n",
    "- eskuela = school | umeskuela = went to school\n",
    "\n",
    "You might also commonly see the UM infix used with reduplication of the root word, to indicate present or continuous tense. Examples:\n",
    "\n",
    "- maolek = good | mumaolek = become good | mumamaolek = becoming good\n",
    "- eskuela = school | umeskuela = went to school | umeskuekuela = going to school"
   ]
  },
  {
   "cell_type": "code",
   "execution_count": 49,
   "metadata": {},
   "outputs": [],
   "source": [
    "def apply_um_infix(temp_dictionary):\n",
    "    \"\"\"Takes the words in the temp_dictionary and loop thru, applying the um infix\"\"\"\n",
    "    \n",
    "    # Create definition for um infix\n",
    "    # Re-write so that we look for the first vowel in a word and insert the UM before it\n",
    "    um_infix_term = '-um-'\n",
    "    um_infix_definition = '1) Makes verbs infinitive, (to + verb); 2) Used with intransitive verbs to make them past tense, unless reduplicated; 3) Used as a verbalizer, changing non-verbs into verbs with similar use as \"to become\" '\n",
    "    \n",
    "    # Create a dictionary of rules for applying the -um- infix\n",
    "    um_infix_rules = {\n",
    "                            'a': ['um', '0'], 'å': ['um', '0'], 'e': ['um', '0'], \n",
    "                            'i': ['um', '0'], 'o': ['um', '0'], 'u': ['um', '0']\n",
    "                    }\n",
    "    \n",
    "    # Create a dictionary to store the -um- affixed words\n",
    "    um_infix_words = {'AffixedWord': [], 'Definition': []}\n",
    "    \n",
    "    # Loop thru original dictionary to apply -um- infix\n",
    "    for item in temp_dictionary['Term']:\n",
    "        for i in item:\n",
    "            if i in um_infix_rules:\n",
    "                slice_start = item.index(i)\n",
    "                affixed_word = item[0:slice_start] + 'um' + item[slice_start: ]\n",
    "                um_infix_words['AffixedWord'].append(affixed_word)\n",
    "                break\n",
    "            \n",
    "    return um_infix_words, um_infix_term, um_infix_definition"
   ]
  },
  {
   "cell_type": "code",
   "execution_count": null,
   "metadata": {},
   "outputs": [],
   "source": []
  },
  {
   "cell_type": "code",
   "execution_count": null,
   "metadata": {},
   "outputs": [],
   "source": []
  },
  {
   "cell_type": "markdown",
   "metadata": {},
   "source": [
    "## In Infix\n",
    "\n",
    "The in infix is generally used to change a word into a noun. Examples include:\n",
    "\n",
    "- Magof = happy | Minagof = happiness\n",
    "- Guaiya = to love | Guinaiya = love"
   ]
  },
  {
   "cell_type": "code",
   "execution_count": 46,
   "metadata": {},
   "outputs": [],
   "source": [
    "def apply_in_infix(temp_dictionary):\n",
    "    \"\"\"Takes the words in the temp_dictionary and loop thru, applying the um infix\"\"\"\n",
    "    \n",
    "    # Create definition for in infix\n",
    "    # FIXME: Fix for vowel harmony rules\n",
    "    in_infix_term = '-in-'\n",
    "    in_infix_definition = '1) Makes verbs infinitive, (to + verb); 2) Used with intransitive verbs to make them past tense, unless reduplicated; 3) Used as a verbalizer, changing non-verbs into verbs with similar use as \"to become\" '\n",
    "    \n",
    "    # Create a dictionary of rules for applying the -in- infix\n",
    "    in_infix_rules = {\n",
    "                            'a': ['in', 'ina'], 'å': ['in', 'ina'], 'e': ['in', 'ine'], \n",
    "                            'i': ['in', 'ini'], 'o': ['in', 'ine'], 'u': ['in', 'ini']\n",
    "                    }\n",
    "    \n",
    "    # Create a dictionary to store the -in- affixed words\n",
    "    in_infix_words = {'AffixedWord': [], 'Definition': []}\n",
    "    \n",
    "    # Loop thru original dictionary to apply -in- infix\n",
    "    for item in temp_dictionary['Term']:\n",
    "        item = item.lower()\n",
    "        for i in item:\n",
    "            if i in in_infix_rules:\n",
    "                slice_start = item.index(i) + 1\n",
    "                affixed_word = item[0:slice_start] + in_infix_rules[item[0]][1] + item[slice_start: ]\n",
    "                in_infix_words['AffixedWord'].append(affixed_word)\n",
    "                break\n",
    "            \n",
    "    return in_infix_words, in_infix_term, in_infix_definition"
   ]
  },
  {
   "cell_type": "code",
   "execution_count": null,
   "metadata": {},
   "outputs": [],
   "source": [
    "def apply_reduplication(temp_dictionary):\n",
    "    \n",
    "    \"\"\"\"\"\"\n",
    "    \n",
    "    return "
   ]
  },
  {
   "cell_type": "code",
   "execution_count": 47,
   "metadata": {},
   "outputs": [],
   "source": [
    "def create_new_definition(temp_dictionary, affix_dictionary, affix_term, affix_definition):\n",
    "    \n",
    "    \"\"\" For creating the new definition of the affixed word\"\"\"\n",
    "    \n",
    "    # Get the length of the affix_dictionary for loop\n",
    "    total_words = len(affix_dictionary['AffixedWord'])\n",
    "    \n",
    "    # Assemble the final definition, which is the man_prefix_def and the definition of the original word\n",
    "    for i in range(total_words):\n",
    "        # Get the root word and its definition from the original dictionary\n",
    "        root_word = temp_dictionary['Term'][i]\n",
    "        root_word_definition = temp_dictionary['English'][i]\n",
    "    \n",
    "        # Create the new 3-line definition for the word with the man- prefix\n",
    "        def_line1 = affix_term + ' + ' + root_word\n",
    "        def_line3 = '\\n' + root_word + ': ' + root_word_definition\n",
    "        def_line2 = '\\n' + affix_term + ': ' + affix_definition\n",
    "    \n",
    "        # Put the final definition into the dictionary\n",
    "        affix_dictionary['Definition'].append(def_line1 + def_line3 + def_line2)\n",
    "    \n",
    "    return affix_dictionary, affix_term"
   ]
  },
  {
   "cell_type": "code",
   "execution_count": 48,
   "metadata": {},
   "outputs": [],
   "source": [
    "def create_excel(affix_dictionary, affix_term):\n",
    "    \"\"\"For creating an excel workbook of the affixed words\"\"\"\n",
    "    # Create affixed dictionary into a data frame\n",
    "    affixed_df = pd.DataFrame(affix_dictionary)\n",
    "    # Set the file name to the affix type\n",
    "    file_name = affix_term + 'affixed-words.csv'\n",
    "    # Create csv file\n",
    "    affixed_workbook = affixed_df.to_csv(file_name, encoding=\"ANSI\")\n",
    "    \n",
    "    return affixed_workbook"
   ]
  },
  {
   "cell_type": "code",
   "execution_count": 50,
   "metadata": {},
   "outputs": [],
   "source": [
    "# Open the original dictionary\n",
    "temp_dictionary = open_workbook('CH_ENG_Dictionary.xlsx')\n",
    "#temp_dictionary = open_workbook('Man_Test_Words.xlsx')\n",
    "#temp_dictionary = open_workbook('Man-affixed_words.xlsx')"
   ]
  },
  {
   "cell_type": "code",
   "execution_count": 51,
   "metadata": {},
   "outputs": [],
   "source": [
    "# Apply the affixes\n",
    "#man_prefix = apply_man_prefix(temp_dictionary)\n",
    "um_infix = apply_um_infix(temp_dictionary)\n",
    "#in_infix = apply_in_infix(temp_dictionary)"
   ]
  },
  {
   "cell_type": "code",
   "execution_count": 52,
   "metadata": {},
   "outputs": [],
   "source": [
    "# Create new definitions\n",
    "#new_definitions_man = create_new_definition(temp_dictionary, man_prefix[0], man_prefix[1], man_prefix[2])\n",
    "new_definitions_um = create_new_definition(temp_dictionary, um_infix[0], um_infix[1], um_infix[2])\n",
    "#new_definitions_in = create_new_definition(temp_dictionary, in_infix[0], in_infix[1], in_infix[2])"
   ]
  },
  {
   "cell_type": "code",
   "execution_count": 53,
   "metadata": {},
   "outputs": [],
   "source": [
    "# To create the csv\n",
    "#affix_output_man = create_excel(new_definitions_man[0], new_definitions_man[1])\n",
    "affix_output_um = create_excel(new_definitions_um[0], new_definitions_um[1])\n",
    "#affix_output_in = create_excel(new_definitions_in[0], new_definitions_in[1])"
   ]
  },
  {
   "cell_type": "code",
   "execution_count": 54,
   "metadata": {},
   "outputs": [],
   "source": [
    "in_infix_rules = {\n",
    "                            'a': ['in', 'ina'], 'å': ['in', 'ina'], 'e': ['in', 'ine'], \n",
    "                            'i': ['in', 'ini'], 'o': ['in', 'ine'], 'u': ['in', 'ini']\n",
    "                    }"
   ]
  },
  {
   "cell_type": "code",
   "execution_count": 62,
   "metadata": {},
   "outputs": [
    {
     "name": "stdout",
     "output_type": "stream",
     "text": [
      "a\n",
      "å\n",
      "e\n",
      "i\n",
      "o\n",
      "u\n"
     ]
    }
   ],
   "source": [
    "for item in in_infix_rules:\n",
    "    print(item[]"
   ]
  }
 ],
 "metadata": {
  "kernelspec": {
   "display_name": "Python 3",
   "language": "python",
   "name": "python3"
  },
  "language_info": {
   "codemirror_mode": {
    "name": "ipython",
    "version": 3
   },
   "file_extension": ".py",
   "mimetype": "text/x-python",
   "name": "python",
   "nbconvert_exporter": "python",
   "pygments_lexer": "ipython3",
   "version": "3.8.8"
  }
 },
 "nbformat": 4,
 "nbformat_minor": 2
}
